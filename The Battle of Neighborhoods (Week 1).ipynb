{
    "cells": [
        {
            "cell_type": "markdown",
            "metadata": {
                "collapsed": true
            },
            "source": "# I. A description of the problem and a discussion of the background."
        },
        {
            "cell_type": "markdown",
            "metadata": {},
            "source": "## To Complete IBM Capstone Project's course, we were asked to define a problem and provide a scientific solution by following the data science methodology.\n\n### 1. Problem Understanding\n### 2. Data Understanding & Preparation\n### 3. Data Preprocessing\n### 4. Modeling\n### 5. Evaluation\n### 6. Deployment\n\n### Sometimes, people like to move from a city to another, or they get a new job offer/opportunity and they have to leave to another city. Sometimes it is hard to decide whether they will be comfortable in that city or not.\n### One can ask this question : \"Is it suitable for me to move this particular city ? Am I going to like it ?\". For this, we thought of implementing a solution to answer this particular question. Many features can be used in this project such as Size of city, Crime Rate, Population Rate, etc... . But we stick with the instructions and use only Foursquare's API. With this data we will analyze all cities and try to find the relationship between cities in terms of venues existing in each one of them, and finally a clustering step to find if a particular city is suitable for a person to live in."
        },
        {
            "cell_type": "markdown",
            "metadata": {},
            "source": "# II. A description of the data and how it will be used to solve the problem."
        },
        {
            "cell_type": "markdown",
            "metadata": {},
            "source": "### For this project, we will use the Foursquare API to acquire data about each city. The API will send back a list of venues each one containing places such as restaurants, coffee places, stadiums, etc... .\n\n## I. Data Sources :\n### I.1. \"https://simple.wikipedia.org/wiki/List_of_cities_in_Morocco\" : Scrap a list of Moroccan Cities.\n### I.2. \"Nominatim\" Geocoder : we find the latitude and longitude of each city. This will help us make requests to the Foursquare API.\n### I.3. Foursquare API : Extract all existing categories of venues in each city. This will be helpful in terms of comparing the different activites between cities. <br>\n\n## II. Data Preprocessing :\n### II.1. Deleting small cities and villages.\n### II.2. Correcting cities Name, Latitude & Longitude if necessary.\n### II.3. Converting categorical features to numerical for modeling purposes."
        }
    ],
    "metadata": {
        "kernelspec": {
            "display_name": "Python 3.7",
            "language": "python",
            "name": "python3"
        },
        "language_info": {
            "codemirror_mode": {
                "name": "ipython",
                "version": 3
            },
            "file_extension": ".py",
            "mimetype": "text/x-python",
            "name": "python",
            "nbconvert_exporter": "python",
            "pygments_lexer": "ipython3",
            "version": "3.7.9"
        }
    },
    "nbformat": 4,
    "nbformat_minor": 1
}